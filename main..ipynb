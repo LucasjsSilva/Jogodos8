{
 "cells": [
  {
   "cell_type": "markdown",
   "metadata": {},
   "source": [
    "CLASSE DE CRIAÇÃO DE NÓS"
   ]
  },
  {
   "cell_type": "code",
   "execution_count": null,
   "metadata": {},
   "outputs": [],
   "source": [
    "import math\n",
    "import tracemalloc\n",
    "from collections import deque\n",
    "\n",
    "class No:\n",
    "    def __init__(self, estado, no_pai=None, acao=None, custoCaminho=0, profundidade=0, funcaoAvaliacao=0):\n",
    "        self.estado = estado\n",
    "        self.no_pai = no_pai\n",
    "        self.acao = acao\n",
    "        self.custoCaminho = custoCaminho\n",
    "        self.profundidade = profundidade\n",
    "        self.funcaoAvaliacao = funcaoAvaliacao\n",
    "\n",
    "    def getState(self):\n",
    "        return self.estado\n",
    "    \n",
    "    def getFuncaoAvaliacao(self):\n",
    "        return self.funcaoAvaliacao\n",
    "        "
   ]
  },
  {
   "cell_type": "markdown",
   "metadata": {},
   "source": [
    "HEURÍSTICAS ESTUDADAS"
   ]
  },
  {
   "cell_type": "code",
   "execution_count": null,
   "metadata": {},
   "outputs": [],
   "source": [
    "def heuristicaDistanciaManhathan(elemento, estadoAtual, estadoObjetivo):\n",
    "    # h² = (x1 - x2)² + (y1 - y2)²\n",
    "    # x = coluna\n",
    "    # y = linha\n",
    "    \n",
    "    # x0 x1 x2 \n",
    "    # 0  1  2     --> y = 0\n",
    "    # 3  4  5     --> y = 1\n",
    "    # 6  7  8     --> y = 2\n",
    "    \n",
    "    posicaoObjetivo = estadoObjetivo.index(elemento)\n",
    "    posicaoAtual = estadoAtual.index(elemento)\n",
    "\n",
    "    x1_mapping = {8: 2, 5: 2, 2: 2, 1: 1, 4: 1, 7: 1}\n",
    "    y1_mapping = {0: 0, 1: 0, 2: 0, 3: 1, 4: 1, 5: 1, 6: 2, 7: 2, 8: 2}\n",
    "\n",
    "    x2_mapping = {8: 2, 5: 2, 2: 2, 1: 1, 4: 1, 7: 1}\n",
    "    y2_mapping = {0: 0, 1: 0, 2: 0, 3: 1, 4: 1, 5: 1, 6: 2, 7: 2, 8: 2}\n",
    "\n",
    "    x1, y1 = x1_mapping.get(posicaoObjetivo, 0), y1_mapping.get(posicaoObjetivo, 0)\n",
    "    x2, y2 = x2_mapping.get(posicaoAtual, 0), y2_mapping.get(posicaoAtual, 0)\n",
    "\n",
    "    resultado = math.fabs(x1 - x2) + math.fabs(y1 - y2)\n",
    "    return resultado\n",
    "\n",
    "def heuristicaDistanciaEuclidiana(elemento, estadoAtual, estadoObjetivo):\n",
    "     # h² = (x1 - x2)² + (y1 - y2)²\n",
    "    # x = coluna\n",
    "    # y = linha\n",
    "    \n",
    "    # x0 x1 x2 \n",
    "    # 0  5  2     --> y = 0\n",
    "    # 3  4  1     --> y = 1\n",
    "    # 6  7  8     --> y = 2\n",
    "    \n",
    "    posicaoObjetivo = estadoObjetivo.index(elemento)\n",
    "    posicaoAtual = estadoAtual.index(elemento)\n",
    "\n",
    "    x1_mapping = {8: 2, 5: 2, 2: 2, 1: 1, 4: 1, 7: 1}\n",
    "    y1_mapping = {0: 0, 1: 0, 2: 0, 3: 1, 4: 1, 5: 1, 6: 2, 7: 2, 8: 2}\n",
    "\n",
    "    x2_mapping = {8: 2, 5: 2, 2: 2, 1: 1, 4: 1, 7: 1}\n",
    "    y2_mapping = {0: 0, 1: 0, 2: 0, 3: 1, 4: 1, 5: 1, 6: 2, 7: 2, 8: 2}\n",
    "\n",
    "    x1, y1 = x1_mapping.get(posicaoObjetivo, 0), y1_mapping.get(posicaoObjetivo, 0)\n",
    "    x2, y2 = x2_mapping.get(posicaoAtual, 0), y2_mapping.get(posicaoAtual, 0)\n",
    "\n",
    "    resultado = math.sqrt(math.pow(x1 - x2, 2) + math.pow(y1 - y2, 2))\n",
    "    return resultado\n",
    "\n",
    "def heuristicaQuantidadeDeElementosForaDoLugar(estadoAtual, estadoObjetivo):\n",
    "    foraDoLugar = 0\n",
    "    for elemento in estadoAtual:\n",
    "        if(estadoAtual.index(elemento) != estadoObjetivo.index(elemento)):\n",
    "            foraDoLugar += 1\n",
    "\n",
    "    return foraDoLugar"
   ]
  },
  {
   "cell_type": "markdown",
   "metadata": {},
   "source": [
    "FUNÇÃO PARA DEFINIÇÃO DE AÇÕES POSSÍVEIS"
   ]
  },
  {
   "cell_type": "code",
   "execution_count": null,
   "metadata": {},
   "outputs": [],
   "source": [
    "def acoesPossiveis(estado):\n",
    "    # Retorna as ações possíveis no estado (movimentos da peça vazia)\n",
    "    linhas, colunas = 3, 3\n",
    "    posicao_vazia = estado.index(0)\n",
    "    linha_vazia, coluna_vazia = divmod(posicao_vazia, colunas)\n",
    "    \n",
    "    acoes_possiveis = []\n",
    "\n",
    "    # Verificar se é possível mover a peça para cima\n",
    "    if linha_vazia > 0:\n",
    "        acoes_possiveis.append(('cima', (linha_vazia - 1, coluna_vazia)))\n",
    "\n",
    "    # Verificar se é possível mover a peça para baixo\n",
    "    if linha_vazia < linhas - 1:\n",
    "        acoes_possiveis.append(('baixo', (linha_vazia + 1, coluna_vazia)))\n",
    "\n",
    "    # Verificar se é possível mover a peça para a esquerda\n",
    "    if coluna_vazia > 0:\n",
    "        acoes_possiveis.append(('esquerda', (linha_vazia, coluna_vazia - 1)))\n",
    "\n",
    "    # Verificar se é possível mover a peça para a direita\n",
    "    if coluna_vazia < colunas - 1:\n",
    "        acoes_possiveis.append(('direita', (linha_vazia, coluna_vazia + 1)))\n",
    "\n",
    "    return acoes_possiveis\n"
   ]
  },
  {
   "cell_type": "markdown",
   "metadata": {},
   "source": [
    "FUNÇÃO PARA GERAÇÃO DE ESTADO-FILHO A PARTIR DA ACÃO SELECIONADA"
   ]
  },
  {
   "cell_type": "code",
   "execution_count": null,
   "metadata": {},
   "outputs": [],
   "source": [
    "def gerarFilho(estado, acao):\n",
    "    novo_estado = estado[:]\n",
    "    posicao_vazia = novo_estado.index(0)\n",
    "    nova_posicao = acao[1][0] * 3 + acao[1][1]\n",
    "    novo_estado[posicao_vazia], novo_estado[nova_posicao] = novo_estado[nova_posicao], novo_estado[posicao_vazia]\n",
    "    return novo_estado"
   ]
  },
  {
   "cell_type": "markdown",
   "metadata": {},
   "source": [
    "FUNÇÃO PARA VERIFICAR SE O ESTADO-OBJETIVO FOI ALCANÇADO"
   ]
  },
  {
   "cell_type": "code",
   "execution_count": null,
   "metadata": {},
   "outputs": [],
   "source": [
    "def teste_De_Objetivo(EstadoAtual, EstadoObjetivo):\n",
    "    return EstadoAtual == EstadoObjetivo"
   ]
  },
  {
   "cell_type": "markdown",
   "metadata": {},
   "source": [
    "FUNÇÃO PARA IMPRESSÃO DOS ESTADOS PARA CHEGAR NA SOLUÇÃO"
   ]
  },
  {
   "cell_type": "code",
   "execution_count": null,
   "metadata": {},
   "outputs": [],
   "source": [
    "def imprimirCaminhoSolucao(no_solucao):\n",
    "    caminho = []\n",
    "    while no_solucao:\n",
    "        caminho.append(no_solucao.estado)\n",
    "        no_solucao = no_solucao.no_pai\n",
    "    caminho.reverse()\n",
    "    for estado in caminho:\n",
    "        print(\"Estado:\")\n",
    "        print(estado[0], estado[1], estado[2])\n",
    "        print(estado[3], estado[4], estado[5])\n",
    "        print(estado[6], estado[7], estado[8])\n",
    "        print()"
   ]
  },
  {
   "cell_type": "markdown",
   "metadata": {},
   "source": [
    "FUNÇÃO PARA VERIFICAR PREVIAMENTE SE O PROBLEMA É SOLUCIONÁVEL"
   ]
  },
  {
   "cell_type": "code",
   "execution_count": null,
   "metadata": {},
   "outputs": [],
   "source": [
    "# Verifica se a soma dos elementos superiores ao elemento verificado é:\n",
    "# par (solucionavel) ou impar ( não solucionavel )\n",
    "def solucionavel(estado_inicial):\n",
    "    inversoes = 0 \n",
    "    for indice, elemento in enumerate(estado_inicial):\n",
    "        if elemento ==0 :\n",
    "            continue\n",
    "        for j in range (indice+1, len(estado_inicial)):\n",
    "            if estado_inicial[j] == 0: \n",
    "                continue\n",
    "            if elemento > estado_inicial[j]:\n",
    "                inversoes +=1\n",
    "    if inversoes %2 == 1:\n",
    "        return False\n",
    "    else:\n",
    "        return True"
   ]
  },
  {
   "cell_type": "markdown",
   "metadata": {},
   "source": [
    "FUNÇÃO PARA IMPRIMIR ESTADOS PRESENTES DA BORDA (TODOS OS NÓS CRIADOS)"
   ]
  },
  {
   "cell_type": "code",
   "execution_count": null,
   "metadata": {},
   "outputs": [],
   "source": [
    "def imprimirEstadosNaBorda(borda):\n",
    "    print(\"Borda:\")\n",
    "    for elemento in borda:\n",
    "        print(elemento.estado)\n",
    "        print()"
   ]
  },
  {
   "cell_type": "markdown",
   "metadata": {},
   "source": [
    "FUNÇÃO PARA GERAÇÃO DE ARQUIVO.TXT COM OS ESTADOS DA BORDA"
   ]
  },
  {
   "cell_type": "code",
   "execution_count": null,
   "metadata": {},
   "outputs": [],
   "source": [
    "def imprimirEstadosNaBorda(borda, arquivo_saida):\n",
    "    with open(arquivo_saida, 'a') as arquivo:\n",
    "        arquivo.write(\"Borda:\\n\")\n",
    "        for elemento in borda:\n",
    "            arquivo.write(str(elemento.estado) + \"\\n\\n\")"
   ]
  },
  {
   "cell_type": "markdown",
   "metadata": {},
   "source": [
    "FUNÇÃO PARA CONTABILIZAR QUANTOS ESTADOS ESTÃO NA BORDA"
   ]
  },
  {
   "cell_type": "code",
   "execution_count": null,
   "metadata": {},
   "outputs": [],
   "source": [
    "def quantidadeDeEstadosNaBorda(borda):\n",
    "    return len(borda)"
   ]
  },
  {
   "cell_type": "markdown",
   "metadata": {},
   "source": [
    "BUSCA UTILIZANDO A ABORDAGEM CEGA EM PROFUNDIDADE"
   ]
  },
  {
   "cell_type": "code",
   "execution_count": null,
   "metadata": {},
   "outputs": [],
   "source": [
    "def buscaEmProfundidade(estado_inicial, estado_objetivo):\n",
    "    borda = [No(estado_inicial)]\n",
    "    explorados = set()\n",
    "    passo = 0\n",
    "\n",
    "    while borda:\n",
    "        passo += 1\n",
    "        #print(f\"Passo {passo}:\")\n",
    "\n",
    "        no = borda.pop()\n",
    "        explorados.add(tuple(no.estado))\n",
    "\n",
    "        if teste_De_Objetivo(no.estado, estado_objetivo):\n",
    "            return no, passo, quantidadeDeEstadosNaBorda(borda)  # Retorna o nó solução\n",
    "\n",
    "        for acao, posicao in acoesPossiveis(no.estado):\n",
    "            filho_estado = gerarFilho(no.estado, (acao, posicao))\n",
    "            if tuple(filho_estado) not in explorados:\n",
    "                filho = No(filho_estado, no, acao)\n",
    "                borda.append(filho)\n",
    "                explorados.add(tuple(filho_estado))\n",
    "\n",
    "        imprimirEstadosNaBorda(borda, 'output.txt')\n",
    "        \n",
    "\n",
    "    return None, None, None  # Se não encontrou solução"
   ]
  },
  {
   "cell_type": "markdown",
   "metadata": {},
   "source": [
    "BUSCA UTILIZANDO A ABORDAGEM CEGA EM LARGURA"
   ]
  },
  {
   "cell_type": "code",
   "execution_count": null,
   "metadata": {},
   "outputs": [],
   "source": [
    "def buscaEmLargura(estado_inicial, estado_objetivo):\n",
    "    borda = deque([No(estado_inicial)])\n",
    "    explorados = set()\n",
    "    passo = 0\n",
    "\n",
    "    while borda:\n",
    "        passo += 1\n",
    "        #print(f\"Passo {passo}:\")\n",
    "\n",
    "        no = borda.popleft()\n",
    "        explorados.add(tuple(no.estado))\n",
    "\n",
    "        if teste_De_Objetivo(no.estado, estado_objetivo):\n",
    "            return no, passo, quantidadeDeEstadosNaBorda(borda)  # Retorna o nó solução\n",
    "\n",
    "        for acao, posicao in acoesPossiveis(no.estado):\n",
    "            filho_estado = gerarFilho(no.estado, (acao, posicao))\n",
    "            if tuple(filho_estado) not in explorados:\n",
    "                filho = No(filho_estado, no, acao)\n",
    "                borda.append(filho)\n",
    "                explorados.add(tuple(filho_estado))\n",
    "\n",
    "        imprimirEstadosNaBorda(borda, 'output.txt')\n",
    "\n",
    "    return None, None, None  # Se não encontrou solução\n"
   ]
  },
  {
   "cell_type": "markdown",
   "metadata": {},
   "source": [
    "BUSCA UTILIZANDO A ABORDAGEM A*"
   ]
  },
  {
   "cell_type": "code",
   "execution_count": null,
   "metadata": {},
   "outputs": [],
   "source": [
    "def funcaoAvaliacao(estado, custoCaminho, estadoAtual, estadoObjetivo): \n",
    "    # f(n)= g(n) + h(n)\n",
    "    # A* = profundidade do nó + heuristica\n",
    "    h = 0\n",
    "    g = custoCaminho\n",
    "    for indice in estado:\n",
    "        h += heuristicaDistanciaManhathan(indice, estadoAtual, estadoObjetivo)\n",
    "        #h += heuristicaDistanciaEuclidiana(indice, estadoAtual, estadoObjetivo)\n",
    "        #h += heuristicaQuantidadeDeElementosForaDoLugar(indice, estadoAtual, estadoObjetivo)\n",
    "        \n",
    "    return (g + h)\n",
    "\n",
    "def a_estrela(estado_inicial, estado_objetivo):\n",
    "    borda = [No(estado_inicial)]\n",
    "    explorados = set()\n",
    "    passo = 0\n",
    "\n",
    "    while borda:\n",
    "        passo += 1\n",
    "        #print(f\"Passo {passo}:\")\n",
    "        borda.sort(key=lambda x: x.funcaoAvaliacao)  # Ordena a borda pela heurística pelo menor custoTotal\n",
    "        no = borda.pop(0)\n",
    "        explorados.add(tuple(no.estado))\n",
    "\n",
    "        if teste_De_Objetivo(no.estado, estado_objetivo):\n",
    "            return no, passo, quantidadeDeEstadosNaBorda(borda)  # Retorna o nó solução\n",
    "\n",
    "        for acao, posicao in acoesPossiveis(no.estado):\n",
    "            filho_estado = gerarFilho(no.estado, (acao, posicao))\n",
    "            if tuple(filho_estado) not in explorados:\n",
    "                filho = No(filho_estado, no, acao, custoCaminho=passo, profundidade=passo, funcaoAvaliacao = funcaoAvaliacao(estado= filho_estado, custoCaminho= passo, estadoAtual= filho_estado, estadoObjetivo= estado_objetivo))\n",
    "                borda.append(filho)\n",
    "                explorados.add(tuple(filho_estado))\n",
    "\n",
    "        imprimirEstadosNaBorda(borda, 'output.txt')\n",
    "\n",
    "    return None, None, None  # Se não encontrou solução\n"
   ]
  },
  {
   "cell_type": "markdown",
   "metadata": {},
   "source": [
    "BUSCA UTILIZANDO ABORDAGEM GULOSA"
   ]
  },
  {
   "cell_type": "code",
   "execution_count": null,
   "metadata": {},
   "outputs": [],
   "source": [
    "def heuristicaGulosa(estadoAtual, estadoObjetivo):\n",
    "    valor_heuristico_total = 0\n",
    "    for elemento in estadoAtual:\n",
    "        if elemento != 0:\n",
    "           valor_heuristico_total += heuristicaQuantidadeDeElementosForaDoLugar(estadoAtual, estadoObjetivo)\n",
    "           #valor_heuristico_total += heuristicaDistanciaEuclidiana(elemento, estadoAtual, estadoObjetivo)\n",
    "           #valor_heuristico_total += heuristicaDistanciaManhathan(elemento, estadoAtual, estadoObjetivo)\n",
    "    return valor_heuristico_total\n",
    "\n",
    "\n",
    "\n",
    "def buscaGulosa_algoritmo(estado_inicial, estado_objetivo):\n",
    "    borda = [No(estado_inicial)]\n",
    "    explorados = set()\n",
    "    passo = 0\n",
    "\n",
    "    while borda:\n",
    "        passo += 1\n",
    "        #print(f\"Passo {passo}:\")\n",
    "\n",
    "        borda.sort(key=lambda x: heuristicaGulosa(x.estado, estado_objetivo))  # Ordena a borda pela heurística pelo menor custoTotal\n",
    "\n",
    "        no = borda.pop(0)\n",
    "        explorados.add(tuple(no.estado))\n",
    "\n",
    "        if teste_De_Objetivo(no.estado, estado_objetivo):\n",
    "            return no, passo, quantidadeDeEstadosNaBorda(borda)  \n",
    "            # Retorna o nó solução, profundidade e a quantidade de estados restantes na borda\n",
    "\n",
    "        for acao, posicao in acoesPossiveis(no.estado):\n",
    "            filho_estado = gerarFilho(no.estado, (acao, posicao))\n",
    "            if tuple(filho_estado) not in explorados:\n",
    "                filho = No(filho_estado, no, acao)\n",
    "                borda.append(filho)\n",
    "                explorados.add(tuple(filho_estado))\n",
    "\n",
    "        imprimirEstadosNaBorda(borda, 'output.txt')\n",
    "\n",
    "    return None, None, None  # Se não encontrou solução\n"
   ]
  },
  {
   "cell_type": "markdown",
   "metadata": {},
   "source": [
    "FUNÇÃO PARA TESTES E APLICAÇÃO DOS ALGORITMOS"
   ]
  },
  {
   "cell_type": "code",
   "execution_count": null,
   "metadata": {},
   "outputs": [],
   "source": []
  },
  {
   "cell_type": "markdown",
   "metadata": {},
   "source": [
    "CONSIDERAÇÕES"
   ]
  },
  {
   "cell_type": "code",
   "execution_count": null,
   "metadata": {
    "vscode": {
     "languageId": "plaintext"
    }
   },
   "outputs": [],
   "source": [
    "\n",
    "    # 0.47670626640319824 segundos -- SÓ EUCLIDIANDA\n",
    "    # 0.34635162353515625 segundos -- SÓ MANHATHAN\n",
    "    # 35.1669542789459200 segundos -- SÓ Quantidade de Elementos Fora do Lugar\n",
    "\n",
    "\n",
    "    # MANHATAN\n",
    "    # Quantidade de Estados: 25\n",
    "    # Memória atual: 26440 bytes, Pico de memória: 50136 bytes\n",
    "    # Tempo total: 0.32930493354797363 segundos\n",
    "\n",
    "    # EUCLIDIANA\n",
    "    # Memória atual: 27584 bytes, Pico de memória: 52624 bytes\n",
    "    # Quantidade de Estados:25\n",
    "    \n",
    "    # Tempo total: 0.37177014350891113 segundos    \n",
    "\n",
    "\n",
    "    # Qnt.Elem.FORA DO LUDAR\n",
    "    # Quantidade de Estados: 61\n",
    "    # Memória atual: 151040 bytes, Pico de memória: 440576 bytes\n",
    "    # Tempo total: 35.58181309700012 segundos\n"
   ]
  }
 ],
 "metadata": {
  "kernelspec": {
   "display_name": "Python 3",
   "language": "python",
   "name": "python3"
  },
  "language_info": {
   "codemirror_mode": {
    "name": "ipython",
    "version": 3
   },
   "file_extension": ".py",
   "mimetype": "text/x-python",
   "name": "python",
   "nbconvert_exporter": "python",
   "pygments_lexer": "ipython3",
   "version": "3.11.4"
  }
 },
 "nbformat": 4,
 "nbformat_minor": 2
}
